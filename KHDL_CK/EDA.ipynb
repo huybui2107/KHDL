{
  "nbformat": 4,
  "nbformat_minor": 0,
  "metadata": {
    "colab": {
      "provenance": []
    },
    "kernelspec": {
      "name": "python3",
      "display_name": "Python 3"
    },
    "language_info": {
      "name": "python"
    }
  },
  "cells": [
    {
      "cell_type": "markdown",
      "source": [
        "<h1>Mô tả dữ liệu 🧮<h1>"
      ],
      "metadata": {
        "id": "Wel7JlvvyG1Q"
      }
    },
    {
      "cell_type": "code",
      "source": [
        "#import library\n",
        "import pandas as pd\n",
        "import seaborn as sns\n",
        "import numpy as np\n",
        "import matplotlib.pyplot as plt"
      ],
      "metadata": {
        "id": "-ia1WcLBzVOZ"
      },
      "execution_count": 57,
      "outputs": []
    },
    {
      "cell_type": "markdown",
      "source": [
        "<h3>DaNaWatch</h3>"
      ],
      "metadata": {
        "id": "_KdyfwmZyT3D"
      }
    },
    {
      "cell_type": "code",
      "execution_count": 58,
      "metadata": {
        "colab": {
          "base_uri": "https://localhost:8080/",
          "height": 337
        },
        "id": "MVDnf9QHxjlB",
        "outputId": "f33cd05b-4ff0-445b-b3f1-7e59eba682df"
      },
      "outputs": [
        {
          "output_type": "execute_result",
          "data": {
            "text/plain": [
              "            name Gender Face_Diameter           Glass_material  \\\n",
              "0   GA-2100-4ADR    Nam        45.4mm   khoáng (Mineral Glass)   \n",
              "1   GA-2100-4ADR    Nam        45.4mm   khoáng (Mineral Glass)   \n",
              "2   GA-2100-4ADR    Nam       45.4 mm   khoáng (Mineral Glass)   \n",
              "3  GA-B2100-1ADR    Nam        45.4mm   khoáng (Mineral Glass)   \n",
              "4   GA-2100-4ADR    Nam       45.4 mm   khoáng (Mineral Glass)   \n",
              "\n",
              "           Wire_material                          Apparatus Waterproof  \\\n",
              "0  Dây kim loại (Custom)                       Pin (Quartz)      20ATM   \n",
              "1  Dây kim loại (Custom)                       Pin (Quartz)      20ATM   \n",
              "2    Dây cao su (Custom)                       Pin (Quartz)      20ATM   \n",
              "3               Dây nhựa  Tough Solar (Năng lượng mặt trời)      20ATM   \n",
              "4    Dây cao su (Custom)                       Pin (Quartz)      20ATM   \n",
              "\n",
              "     Origin  agency    Price  \n",
              "0  Nhật Bản   Casio  5695200  \n",
              "1  Nhật Bản   Casio  5695200  \n",
              "2  Nhật Bản   Casio  5515200  \n",
              "3  Nhật Bản   Casio  4752000  \n",
              "4  Nhật Bản   Casio  5515200  "
            ],
            "text/html": [
              "\n",
              "  <div id=\"df-ae4bfdbc-92a6-4d37-bff3-481f34234664\">\n",
              "    <div class=\"colab-df-container\">\n",
              "      <div>\n",
              "<style scoped>\n",
              "    .dataframe tbody tr th:only-of-type {\n",
              "        vertical-align: middle;\n",
              "    }\n",
              "\n",
              "    .dataframe tbody tr th {\n",
              "        vertical-align: top;\n",
              "    }\n",
              "\n",
              "    .dataframe thead th {\n",
              "        text-align: right;\n",
              "    }\n",
              "</style>\n",
              "<table border=\"1\" class=\"dataframe\">\n",
              "  <thead>\n",
              "    <tr style=\"text-align: right;\">\n",
              "      <th></th>\n",
              "      <th>name</th>\n",
              "      <th>Gender</th>\n",
              "      <th>Face_Diameter</th>\n",
              "      <th>Glass_material</th>\n",
              "      <th>Wire_material</th>\n",
              "      <th>Apparatus</th>\n",
              "      <th>Waterproof</th>\n",
              "      <th>Origin</th>\n",
              "      <th>agency</th>\n",
              "      <th>Price</th>\n",
              "    </tr>\n",
              "  </thead>\n",
              "  <tbody>\n",
              "    <tr>\n",
              "      <th>0</th>\n",
              "      <td>GA-2100-4ADR</td>\n",
              "      <td>Nam</td>\n",
              "      <td>45.4mm</td>\n",
              "      <td>khoáng (Mineral Glass)</td>\n",
              "      <td>Dây kim loại (Custom)</td>\n",
              "      <td>Pin (Quartz)</td>\n",
              "      <td>20ATM</td>\n",
              "      <td>Nhật Bản</td>\n",
              "      <td>Casio</td>\n",
              "      <td>5695200</td>\n",
              "    </tr>\n",
              "    <tr>\n",
              "      <th>1</th>\n",
              "      <td>GA-2100-4ADR</td>\n",
              "      <td>Nam</td>\n",
              "      <td>45.4mm</td>\n",
              "      <td>khoáng (Mineral Glass)</td>\n",
              "      <td>Dây kim loại (Custom)</td>\n",
              "      <td>Pin (Quartz)</td>\n",
              "      <td>20ATM</td>\n",
              "      <td>Nhật Bản</td>\n",
              "      <td>Casio</td>\n",
              "      <td>5695200</td>\n",
              "    </tr>\n",
              "    <tr>\n",
              "      <th>2</th>\n",
              "      <td>GA-2100-4ADR</td>\n",
              "      <td>Nam</td>\n",
              "      <td>45.4 mm</td>\n",
              "      <td>khoáng (Mineral Glass)</td>\n",
              "      <td>Dây cao su (Custom)</td>\n",
              "      <td>Pin (Quartz)</td>\n",
              "      <td>20ATM</td>\n",
              "      <td>Nhật Bản</td>\n",
              "      <td>Casio</td>\n",
              "      <td>5515200</td>\n",
              "    </tr>\n",
              "    <tr>\n",
              "      <th>3</th>\n",
              "      <td>GA-B2100-1ADR</td>\n",
              "      <td>Nam</td>\n",
              "      <td>45.4mm</td>\n",
              "      <td>khoáng (Mineral Glass)</td>\n",
              "      <td>Dây nhựa</td>\n",
              "      <td>Tough Solar (Năng lượng mặt trời)</td>\n",
              "      <td>20ATM</td>\n",
              "      <td>Nhật Bản</td>\n",
              "      <td>Casio</td>\n",
              "      <td>4752000</td>\n",
              "    </tr>\n",
              "    <tr>\n",
              "      <th>4</th>\n",
              "      <td>GA-2100-4ADR</td>\n",
              "      <td>Nam</td>\n",
              "      <td>45.4 mm</td>\n",
              "      <td>khoáng (Mineral Glass)</td>\n",
              "      <td>Dây cao su (Custom)</td>\n",
              "      <td>Pin (Quartz)</td>\n",
              "      <td>20ATM</td>\n",
              "      <td>Nhật Bản</td>\n",
              "      <td>Casio</td>\n",
              "      <td>5515200</td>\n",
              "    </tr>\n",
              "  </tbody>\n",
              "</table>\n",
              "</div>\n",
              "      <button class=\"colab-df-convert\" onclick=\"convertToInteractive('df-ae4bfdbc-92a6-4d37-bff3-481f34234664')\"\n",
              "              title=\"Convert this dataframe to an interactive table.\"\n",
              "              style=\"display:none;\">\n",
              "        \n",
              "  <svg xmlns=\"http://www.w3.org/2000/svg\" height=\"24px\"viewBox=\"0 0 24 24\"\n",
              "       width=\"24px\">\n",
              "    <path d=\"M0 0h24v24H0V0z\" fill=\"none\"/>\n",
              "    <path d=\"M18.56 5.44l.94 2.06.94-2.06 2.06-.94-2.06-.94-.94-2.06-.94 2.06-2.06.94zm-11 1L8.5 8.5l.94-2.06 2.06-.94-2.06-.94L8.5 2.5l-.94 2.06-2.06.94zm10 10l.94 2.06.94-2.06 2.06-.94-2.06-.94-.94-2.06-.94 2.06-2.06.94z\"/><path d=\"M17.41 7.96l-1.37-1.37c-.4-.4-.92-.59-1.43-.59-.52 0-1.04.2-1.43.59L10.3 9.45l-7.72 7.72c-.78.78-.78 2.05 0 2.83L4 21.41c.39.39.9.59 1.41.59.51 0 1.02-.2 1.41-.59l7.78-7.78 2.81-2.81c.8-.78.8-2.07 0-2.86zM5.41 20L4 18.59l7.72-7.72 1.47 1.35L5.41 20z\"/>\n",
              "  </svg>\n",
              "      </button>\n",
              "      \n",
              "  <style>\n",
              "    .colab-df-container {\n",
              "      display:flex;\n",
              "      flex-wrap:wrap;\n",
              "      gap: 12px;\n",
              "    }\n",
              "\n",
              "    .colab-df-convert {\n",
              "      background-color: #E8F0FE;\n",
              "      border: none;\n",
              "      border-radius: 50%;\n",
              "      cursor: pointer;\n",
              "      display: none;\n",
              "      fill: #1967D2;\n",
              "      height: 32px;\n",
              "      padding: 0 0 0 0;\n",
              "      width: 32px;\n",
              "    }\n",
              "\n",
              "    .colab-df-convert:hover {\n",
              "      background-color: #E2EBFA;\n",
              "      box-shadow: 0px 1px 2px rgba(60, 64, 67, 0.3), 0px 1px 3px 1px rgba(60, 64, 67, 0.15);\n",
              "      fill: #174EA6;\n",
              "    }\n",
              "\n",
              "    [theme=dark] .colab-df-convert {\n",
              "      background-color: #3B4455;\n",
              "      fill: #D2E3FC;\n",
              "    }\n",
              "\n",
              "    [theme=dark] .colab-df-convert:hover {\n",
              "      background-color: #434B5C;\n",
              "      box-shadow: 0px 1px 3px 1px rgba(0, 0, 0, 0.15);\n",
              "      filter: drop-shadow(0px 1px 2px rgba(0, 0, 0, 0.3));\n",
              "      fill: #FFFFFF;\n",
              "    }\n",
              "  </style>\n",
              "\n",
              "      <script>\n",
              "        const buttonEl =\n",
              "          document.querySelector('#df-ae4bfdbc-92a6-4d37-bff3-481f34234664 button.colab-df-convert');\n",
              "        buttonEl.style.display =\n",
              "          google.colab.kernel.accessAllowed ? 'block' : 'none';\n",
              "\n",
              "        async function convertToInteractive(key) {\n",
              "          const element = document.querySelector('#df-ae4bfdbc-92a6-4d37-bff3-481f34234664');\n",
              "          const dataTable =\n",
              "            await google.colab.kernel.invokeFunction('convertToInteractive',\n",
              "                                                     [key], {});\n",
              "          if (!dataTable) return;\n",
              "\n",
              "          const docLinkHtml = 'Like what you see? Visit the ' +\n",
              "            '<a target=\"_blank\" href=https://colab.research.google.com/notebooks/data_table.ipynb>data table notebook</a>'\n",
              "            + ' to learn more about interactive tables.';\n",
              "          element.innerHTML = '';\n",
              "          dataTable['output_type'] = 'display_data';\n",
              "          await google.colab.output.renderOutput(dataTable, element);\n",
              "          const docLink = document.createElement('div');\n",
              "          docLink.innerHTML = docLinkHtml;\n",
              "          element.appendChild(docLink);\n",
              "        }\n",
              "      </script>\n",
              "    </div>\n",
              "  </div>\n",
              "  "
            ]
          },
          "metadata": {},
          "execution_count": 58
        }
      ],
      "source": [
        "dana=pd.read_csv(\"/content/dongho_dana.csv\")\n",
        "dana.head()"
      ]
    },
    {
      "cell_type": "code",
      "source": [
        "dana.info()"
      ],
      "metadata": {
        "colab": {
          "base_uri": "https://localhost:8080/"
        },
        "id": "tK06C5_20Q7s",
        "outputId": "ba7f282c-e109-4984-97b3-9bbd744dfd68"
      },
      "execution_count": 59,
      "outputs": [
        {
          "output_type": "stream",
          "name": "stdout",
          "text": [
            "<class 'pandas.core.frame.DataFrame'>\n",
            "RangeIndex: 462 entries, 0 to 461\n",
            "Data columns (total 10 columns):\n",
            " #   Column          Non-Null Count  Dtype \n",
            "---  ------          --------------  ----- \n",
            " 0   name            462 non-null    object\n",
            " 1   Gender          462 non-null    object\n",
            " 2   Face_Diameter   462 non-null    object\n",
            " 3   Glass_material  462 non-null    object\n",
            " 4   Wire_material   462 non-null    object\n",
            " 5   Apparatus       462 non-null    object\n",
            " 6   Waterproof      462 non-null    object\n",
            " 7   Origin          462 non-null    object\n",
            " 8   agency          462 non-null    object\n",
            " 9   Price           462 non-null    int64 \n",
            "dtypes: int64(1), object(9)\n",
            "memory usage: 36.2+ KB\n"
          ]
        }
      ]
    },
    {
      "cell_type": "markdown",
      "source": [
        "<h3>Đăng Quang Watch </h3>"
      ],
      "metadata": {
        "id": "jaWw50hh0E1k"
      }
    },
    {
      "cell_type": "code",
      "source": [
        "dangQuang=pd.read_csv(\"/content/dongho_dangquang.csv\")\n",
        "dangQuang.head()"
      ],
      "metadata": {
        "colab": {
          "base_uri": "https://localhost:8080/",
          "height": 206
        },
        "id": "NXxLiUiB0ZX1",
        "outputId": "7483bf65-81fb-42fe-b04c-60de5cdb9e1f"
      },
      "execution_count": 60,
      "outputs": [
        {
          "output_type": "execute_result",
          "data": {
            "text/plain": [
              "        name       Gender Face_Diameter Glass_material      Wire_material  \\\n",
              "0    PA5018H  Đồng hồ Nam         42 mm  TrángSapphire  Dây da chính hãng   \n",
              "1    PA5018G  Đồng hồ Nam         42 mm  TrángSapphire  Dây da chính hãng   \n",
              "2     PA2022  Đồng hồ Nam         40 mm  TrángSapphire  Dây da chính hãng   \n",
              "3    PA5021B  Đồng hồ Nam         42 mm  TrángSapphire  Dây da chính hãng   \n",
              "4    PA5021H  Đồng hồ Nam         42 mm  TrángSapphire  Dây da chính hãng   \n",
              "\n",
              "    Apparatus Waterproof Origin            agency        Price  \n",
              "0  Quartz/Pin      5 ATM     Áo  Philippe Auguste   4.581.000đ  \n",
              "1  Quartz/Pin      5 ATM     Áo  Philippe Auguste   4.581.000đ  \n",
              "2  Quartz/Pin      5 ATM     Áo  Philippe Auguste  10.710.000đ  \n",
              "3  Quartz/Pin     10 ATM     Áo  Philippe Auguste   5.379.300đ  \n",
              "4  Quartz/Pin     10 ATM     Áo  Philippe Auguste   5.990.400đ  "
            ],
            "text/html": [
              "\n",
              "  <div id=\"df-87865259-52de-447e-8191-ef19ce57fe90\">\n",
              "    <div class=\"colab-df-container\">\n",
              "      <div>\n",
              "<style scoped>\n",
              "    .dataframe tbody tr th:only-of-type {\n",
              "        vertical-align: middle;\n",
              "    }\n",
              "\n",
              "    .dataframe tbody tr th {\n",
              "        vertical-align: top;\n",
              "    }\n",
              "\n",
              "    .dataframe thead th {\n",
              "        text-align: right;\n",
              "    }\n",
              "</style>\n",
              "<table border=\"1\" class=\"dataframe\">\n",
              "  <thead>\n",
              "    <tr style=\"text-align: right;\">\n",
              "      <th></th>\n",
              "      <th>name</th>\n",
              "      <th>Gender</th>\n",
              "      <th>Face_Diameter</th>\n",
              "      <th>Glass_material</th>\n",
              "      <th>Wire_material</th>\n",
              "      <th>Apparatus</th>\n",
              "      <th>Waterproof</th>\n",
              "      <th>Origin</th>\n",
              "      <th>agency</th>\n",
              "      <th>Price</th>\n",
              "    </tr>\n",
              "  </thead>\n",
              "  <tbody>\n",
              "    <tr>\n",
              "      <th>0</th>\n",
              "      <td>PA5018H</td>\n",
              "      <td>Đồng hồ Nam</td>\n",
              "      <td>42 mm</td>\n",
              "      <td>TrángSapphire</td>\n",
              "      <td>Dây da chính hãng</td>\n",
              "      <td>Quartz/Pin</td>\n",
              "      <td>5 ATM</td>\n",
              "      <td>Áo</td>\n",
              "      <td>Philippe Auguste</td>\n",
              "      <td>4.581.000đ</td>\n",
              "    </tr>\n",
              "    <tr>\n",
              "      <th>1</th>\n",
              "      <td>PA5018G</td>\n",
              "      <td>Đồng hồ Nam</td>\n",
              "      <td>42 mm</td>\n",
              "      <td>TrángSapphire</td>\n",
              "      <td>Dây da chính hãng</td>\n",
              "      <td>Quartz/Pin</td>\n",
              "      <td>5 ATM</td>\n",
              "      <td>Áo</td>\n",
              "      <td>Philippe Auguste</td>\n",
              "      <td>4.581.000đ</td>\n",
              "    </tr>\n",
              "    <tr>\n",
              "      <th>2</th>\n",
              "      <td>PA2022</td>\n",
              "      <td>Đồng hồ Nam</td>\n",
              "      <td>40 mm</td>\n",
              "      <td>TrángSapphire</td>\n",
              "      <td>Dây da chính hãng</td>\n",
              "      <td>Quartz/Pin</td>\n",
              "      <td>5 ATM</td>\n",
              "      <td>Áo</td>\n",
              "      <td>Philippe Auguste</td>\n",
              "      <td>10.710.000đ</td>\n",
              "    </tr>\n",
              "    <tr>\n",
              "      <th>3</th>\n",
              "      <td>PA5021B</td>\n",
              "      <td>Đồng hồ Nam</td>\n",
              "      <td>42 mm</td>\n",
              "      <td>TrángSapphire</td>\n",
              "      <td>Dây da chính hãng</td>\n",
              "      <td>Quartz/Pin</td>\n",
              "      <td>10 ATM</td>\n",
              "      <td>Áo</td>\n",
              "      <td>Philippe Auguste</td>\n",
              "      <td>5.379.300đ</td>\n",
              "    </tr>\n",
              "    <tr>\n",
              "      <th>4</th>\n",
              "      <td>PA5021H</td>\n",
              "      <td>Đồng hồ Nam</td>\n",
              "      <td>42 mm</td>\n",
              "      <td>TrángSapphire</td>\n",
              "      <td>Dây da chính hãng</td>\n",
              "      <td>Quartz/Pin</td>\n",
              "      <td>10 ATM</td>\n",
              "      <td>Áo</td>\n",
              "      <td>Philippe Auguste</td>\n",
              "      <td>5.990.400đ</td>\n",
              "    </tr>\n",
              "  </tbody>\n",
              "</table>\n",
              "</div>\n",
              "      <button class=\"colab-df-convert\" onclick=\"convertToInteractive('df-87865259-52de-447e-8191-ef19ce57fe90')\"\n",
              "              title=\"Convert this dataframe to an interactive table.\"\n",
              "              style=\"display:none;\">\n",
              "        \n",
              "  <svg xmlns=\"http://www.w3.org/2000/svg\" height=\"24px\"viewBox=\"0 0 24 24\"\n",
              "       width=\"24px\">\n",
              "    <path d=\"M0 0h24v24H0V0z\" fill=\"none\"/>\n",
              "    <path d=\"M18.56 5.44l.94 2.06.94-2.06 2.06-.94-2.06-.94-.94-2.06-.94 2.06-2.06.94zm-11 1L8.5 8.5l.94-2.06 2.06-.94-2.06-.94L8.5 2.5l-.94 2.06-2.06.94zm10 10l.94 2.06.94-2.06 2.06-.94-2.06-.94-.94-2.06-.94 2.06-2.06.94z\"/><path d=\"M17.41 7.96l-1.37-1.37c-.4-.4-.92-.59-1.43-.59-.52 0-1.04.2-1.43.59L10.3 9.45l-7.72 7.72c-.78.78-.78 2.05 0 2.83L4 21.41c.39.39.9.59 1.41.59.51 0 1.02-.2 1.41-.59l7.78-7.78 2.81-2.81c.8-.78.8-2.07 0-2.86zM5.41 20L4 18.59l7.72-7.72 1.47 1.35L5.41 20z\"/>\n",
              "  </svg>\n",
              "      </button>\n",
              "      \n",
              "  <style>\n",
              "    .colab-df-container {\n",
              "      display:flex;\n",
              "      flex-wrap:wrap;\n",
              "      gap: 12px;\n",
              "    }\n",
              "\n",
              "    .colab-df-convert {\n",
              "      background-color: #E8F0FE;\n",
              "      border: none;\n",
              "      border-radius: 50%;\n",
              "      cursor: pointer;\n",
              "      display: none;\n",
              "      fill: #1967D2;\n",
              "      height: 32px;\n",
              "      padding: 0 0 0 0;\n",
              "      width: 32px;\n",
              "    }\n",
              "\n",
              "    .colab-df-convert:hover {\n",
              "      background-color: #E2EBFA;\n",
              "      box-shadow: 0px 1px 2px rgba(60, 64, 67, 0.3), 0px 1px 3px 1px rgba(60, 64, 67, 0.15);\n",
              "      fill: #174EA6;\n",
              "    }\n",
              "\n",
              "    [theme=dark] .colab-df-convert {\n",
              "      background-color: #3B4455;\n",
              "      fill: #D2E3FC;\n",
              "    }\n",
              "\n",
              "    [theme=dark] .colab-df-convert:hover {\n",
              "      background-color: #434B5C;\n",
              "      box-shadow: 0px 1px 3px 1px rgba(0, 0, 0, 0.15);\n",
              "      filter: drop-shadow(0px 1px 2px rgba(0, 0, 0, 0.3));\n",
              "      fill: #FFFFFF;\n",
              "    }\n",
              "  </style>\n",
              "\n",
              "      <script>\n",
              "        const buttonEl =\n",
              "          document.querySelector('#df-87865259-52de-447e-8191-ef19ce57fe90 button.colab-df-convert');\n",
              "        buttonEl.style.display =\n",
              "          google.colab.kernel.accessAllowed ? 'block' : 'none';\n",
              "\n",
              "        async function convertToInteractive(key) {\n",
              "          const element = document.querySelector('#df-87865259-52de-447e-8191-ef19ce57fe90');\n",
              "          const dataTable =\n",
              "            await google.colab.kernel.invokeFunction('convertToInteractive',\n",
              "                                                     [key], {});\n",
              "          if (!dataTable) return;\n",
              "\n",
              "          const docLinkHtml = 'Like what you see? Visit the ' +\n",
              "            '<a target=\"_blank\" href=https://colab.research.google.com/notebooks/data_table.ipynb>data table notebook</a>'\n",
              "            + ' to learn more about interactive tables.';\n",
              "          element.innerHTML = '';\n",
              "          dataTable['output_type'] = 'display_data';\n",
              "          await google.colab.output.renderOutput(dataTable, element);\n",
              "          const docLink = document.createElement('div');\n",
              "          docLink.innerHTML = docLinkHtml;\n",
              "          element.appendChild(docLink);\n",
              "        }\n",
              "      </script>\n",
              "    </div>\n",
              "  </div>\n",
              "  "
            ]
          },
          "metadata": {},
          "execution_count": 60
        }
      ]
    },
    {
      "cell_type": "code",
      "source": [
        "dangQuang.info()"
      ],
      "metadata": {
        "colab": {
          "base_uri": "https://localhost:8080/"
        },
        "id": "xTs6zR0Q0f6x",
        "outputId": "598d2731-ed93-4930-f715-a9588f823a38"
      },
      "execution_count": 61,
      "outputs": [
        {
          "output_type": "stream",
          "name": "stdout",
          "text": [
            "<class 'pandas.core.frame.DataFrame'>\n",
            "RangeIndex: 1713 entries, 0 to 1712\n",
            "Data columns (total 10 columns):\n",
            " #   Column          Non-Null Count  Dtype \n",
            "---  ------          --------------  ----- \n",
            " 0   name            1712 non-null   object\n",
            " 1   Gender          1705 non-null   object\n",
            " 2   Face_Diameter   1704 non-null   object\n",
            " 3   Glass_material  1703 non-null   object\n",
            " 4   Wire_material   1628 non-null   object\n",
            " 5   Apparatus       1712 non-null   object\n",
            " 6   Waterproof      1706 non-null   object\n",
            " 7   Origin          1707 non-null   object\n",
            " 8   agency          1712 non-null   object\n",
            " 9   Price           1713 non-null   object\n",
            "dtypes: object(10)\n",
            "memory usage: 134.0+ KB\n"
          ]
        }
      ]
    },
    {
      "cell_type": "markdown",
      "source": [
        "<h3>Đồng hồ Hải Triều</3>"
      ],
      "metadata": {
        "id": "Z_Rtq_9n0pwb"
      }
    },
    {
      "cell_type": "code",
      "source": [
        "haiTrieu=pd.read_csv(\"/content/dongho_haitrieu.csv\")\n",
        "haiTrieu.head()"
      ],
      "metadata": {
        "colab": {
          "base_uri": "https://localhost:8080/",
          "height": 337
        },
        "id": "J5SKvQFF0r86",
        "outputId": "ad6322f8-8379-42c5-fcfd-a79f77dc283e"
      },
      "execution_count": 62,
      "outputs": [
        {
          "output_type": "execute_result",
          "data": {
            "text/plain": [
              "                name Gender Face_Diameter                Glass_material  \\\n",
              "0   MTP-1370D-7A2VDF    Nam          40mm   Mineral Crystal (Kính Cứng)   \n",
              "1      RA-AR0001S10B    Nam       40.8 mm    Sapphire (Kính Chống Trầy)   \n",
              "2    EFV-550L-1AVUDF    Nam         47 mm   Mineral Crystal (Kính Cứng)   \n",
              "3    MTP-1381D-1AVDF    Nam        39.9mm   Mineral Crystal (Kính Cứng)   \n",
              "4        GA-110-1BDR    Nam          53mm   Mineral Crystal (Kính Cứng)   \n",
              "\n",
              "        Wire_material             Apparatus Waterproof     Origin   agency  \\\n",
              "0                 NaN          Quartz (Pin)      5 ATM   Nhật Bản    Casio   \n",
              "1       Thép Không Gỉ   Automatic (Tự Động)      5 ATM   Nhật Bản   Orient   \n",
              "2   Dây Da Chính Hãng          Quartz (Pin)     10 ATM   Nhật Bản    Casio   \n",
              "3                 NaN          Quartz (Pin)      5 ATM   Nhật Bản    Casio   \n",
              "4          Dây Cao Su          Quartz (Pin)     20 ATM   Nhật Bản    Casio   \n",
              "\n",
              "          Price  \n",
              "0   1.607.000 ₫  \n",
              "1  11.760.000 ₫  \n",
              "2   3.529.000 ₫  \n",
              "3   1.710.000 ₫  \n",
              "4   4.612.000 ₫  "
            ],
            "text/html": [
              "\n",
              "  <div id=\"df-8257018d-1925-4f77-8eab-803721f10c3c\">\n",
              "    <div class=\"colab-df-container\">\n",
              "      <div>\n",
              "<style scoped>\n",
              "    .dataframe tbody tr th:only-of-type {\n",
              "        vertical-align: middle;\n",
              "    }\n",
              "\n",
              "    .dataframe tbody tr th {\n",
              "        vertical-align: top;\n",
              "    }\n",
              "\n",
              "    .dataframe thead th {\n",
              "        text-align: right;\n",
              "    }\n",
              "</style>\n",
              "<table border=\"1\" class=\"dataframe\">\n",
              "  <thead>\n",
              "    <tr style=\"text-align: right;\">\n",
              "      <th></th>\n",
              "      <th>name</th>\n",
              "      <th>Gender</th>\n",
              "      <th>Face_Diameter</th>\n",
              "      <th>Glass_material</th>\n",
              "      <th>Wire_material</th>\n",
              "      <th>Apparatus</th>\n",
              "      <th>Waterproof</th>\n",
              "      <th>Origin</th>\n",
              "      <th>agency</th>\n",
              "      <th>Price</th>\n",
              "    </tr>\n",
              "  </thead>\n",
              "  <tbody>\n",
              "    <tr>\n",
              "      <th>0</th>\n",
              "      <td>MTP-1370D-7A2VDF</td>\n",
              "      <td>Nam</td>\n",
              "      <td>40mm</td>\n",
              "      <td>Mineral Crystal (Kính Cứng)</td>\n",
              "      <td>NaN</td>\n",
              "      <td>Quartz (Pin)</td>\n",
              "      <td>5 ATM</td>\n",
              "      <td>Nhật Bản</td>\n",
              "      <td>Casio</td>\n",
              "      <td>1.607.000 ₫</td>\n",
              "    </tr>\n",
              "    <tr>\n",
              "      <th>1</th>\n",
              "      <td>RA-AR0001S10B</td>\n",
              "      <td>Nam</td>\n",
              "      <td>40.8 mm</td>\n",
              "      <td>Sapphire (Kính Chống Trầy)</td>\n",
              "      <td>Thép Không Gỉ</td>\n",
              "      <td>Automatic (Tự Động)</td>\n",
              "      <td>5 ATM</td>\n",
              "      <td>Nhật Bản</td>\n",
              "      <td>Orient</td>\n",
              "      <td>11.760.000 ₫</td>\n",
              "    </tr>\n",
              "    <tr>\n",
              "      <th>2</th>\n",
              "      <td>EFV-550L-1AVUDF</td>\n",
              "      <td>Nam</td>\n",
              "      <td>47 mm</td>\n",
              "      <td>Mineral Crystal (Kính Cứng)</td>\n",
              "      <td>Dây Da Chính Hãng</td>\n",
              "      <td>Quartz (Pin)</td>\n",
              "      <td>10 ATM</td>\n",
              "      <td>Nhật Bản</td>\n",
              "      <td>Casio</td>\n",
              "      <td>3.529.000 ₫</td>\n",
              "    </tr>\n",
              "    <tr>\n",
              "      <th>3</th>\n",
              "      <td>MTP-1381D-1AVDF</td>\n",
              "      <td>Nam</td>\n",
              "      <td>39.9mm</td>\n",
              "      <td>Mineral Crystal (Kính Cứng)</td>\n",
              "      <td>NaN</td>\n",
              "      <td>Quartz (Pin)</td>\n",
              "      <td>5 ATM</td>\n",
              "      <td>Nhật Bản</td>\n",
              "      <td>Casio</td>\n",
              "      <td>1.710.000 ₫</td>\n",
              "    </tr>\n",
              "    <tr>\n",
              "      <th>4</th>\n",
              "      <td>GA-110-1BDR</td>\n",
              "      <td>Nam</td>\n",
              "      <td>53mm</td>\n",
              "      <td>Mineral Crystal (Kính Cứng)</td>\n",
              "      <td>Dây Cao Su</td>\n",
              "      <td>Quartz (Pin)</td>\n",
              "      <td>20 ATM</td>\n",
              "      <td>Nhật Bản</td>\n",
              "      <td>Casio</td>\n",
              "      <td>4.612.000 ₫</td>\n",
              "    </tr>\n",
              "  </tbody>\n",
              "</table>\n",
              "</div>\n",
              "      <button class=\"colab-df-convert\" onclick=\"convertToInteractive('df-8257018d-1925-4f77-8eab-803721f10c3c')\"\n",
              "              title=\"Convert this dataframe to an interactive table.\"\n",
              "              style=\"display:none;\">\n",
              "        \n",
              "  <svg xmlns=\"http://www.w3.org/2000/svg\" height=\"24px\"viewBox=\"0 0 24 24\"\n",
              "       width=\"24px\">\n",
              "    <path d=\"M0 0h24v24H0V0z\" fill=\"none\"/>\n",
              "    <path d=\"M18.56 5.44l.94 2.06.94-2.06 2.06-.94-2.06-.94-.94-2.06-.94 2.06-2.06.94zm-11 1L8.5 8.5l.94-2.06 2.06-.94-2.06-.94L8.5 2.5l-.94 2.06-2.06.94zm10 10l.94 2.06.94-2.06 2.06-.94-2.06-.94-.94-2.06-.94 2.06-2.06.94z\"/><path d=\"M17.41 7.96l-1.37-1.37c-.4-.4-.92-.59-1.43-.59-.52 0-1.04.2-1.43.59L10.3 9.45l-7.72 7.72c-.78.78-.78 2.05 0 2.83L4 21.41c.39.39.9.59 1.41.59.51 0 1.02-.2 1.41-.59l7.78-7.78 2.81-2.81c.8-.78.8-2.07 0-2.86zM5.41 20L4 18.59l7.72-7.72 1.47 1.35L5.41 20z\"/>\n",
              "  </svg>\n",
              "      </button>\n",
              "      \n",
              "  <style>\n",
              "    .colab-df-container {\n",
              "      display:flex;\n",
              "      flex-wrap:wrap;\n",
              "      gap: 12px;\n",
              "    }\n",
              "\n",
              "    .colab-df-convert {\n",
              "      background-color: #E8F0FE;\n",
              "      border: none;\n",
              "      border-radius: 50%;\n",
              "      cursor: pointer;\n",
              "      display: none;\n",
              "      fill: #1967D2;\n",
              "      height: 32px;\n",
              "      padding: 0 0 0 0;\n",
              "      width: 32px;\n",
              "    }\n",
              "\n",
              "    .colab-df-convert:hover {\n",
              "      background-color: #E2EBFA;\n",
              "      box-shadow: 0px 1px 2px rgba(60, 64, 67, 0.3), 0px 1px 3px 1px rgba(60, 64, 67, 0.15);\n",
              "      fill: #174EA6;\n",
              "    }\n",
              "\n",
              "    [theme=dark] .colab-df-convert {\n",
              "      background-color: #3B4455;\n",
              "      fill: #D2E3FC;\n",
              "    }\n",
              "\n",
              "    [theme=dark] .colab-df-convert:hover {\n",
              "      background-color: #434B5C;\n",
              "      box-shadow: 0px 1px 3px 1px rgba(0, 0, 0, 0.15);\n",
              "      filter: drop-shadow(0px 1px 2px rgba(0, 0, 0, 0.3));\n",
              "      fill: #FFFFFF;\n",
              "    }\n",
              "  </style>\n",
              "\n",
              "      <script>\n",
              "        const buttonEl =\n",
              "          document.querySelector('#df-8257018d-1925-4f77-8eab-803721f10c3c button.colab-df-convert');\n",
              "        buttonEl.style.display =\n",
              "          google.colab.kernel.accessAllowed ? 'block' : 'none';\n",
              "\n",
              "        async function convertToInteractive(key) {\n",
              "          const element = document.querySelector('#df-8257018d-1925-4f77-8eab-803721f10c3c');\n",
              "          const dataTable =\n",
              "            await google.colab.kernel.invokeFunction('convertToInteractive',\n",
              "                                                     [key], {});\n",
              "          if (!dataTable) return;\n",
              "\n",
              "          const docLinkHtml = 'Like what you see? Visit the ' +\n",
              "            '<a target=\"_blank\" href=https://colab.research.google.com/notebooks/data_table.ipynb>data table notebook</a>'\n",
              "            + ' to learn more about interactive tables.';\n",
              "          element.innerHTML = '';\n",
              "          dataTable['output_type'] = 'display_data';\n",
              "          await google.colab.output.renderOutput(dataTable, element);\n",
              "          const docLink = document.createElement('div');\n",
              "          docLink.innerHTML = docLinkHtml;\n",
              "          element.appendChild(docLink);\n",
              "        }\n",
              "      </script>\n",
              "    </div>\n",
              "  </div>\n",
              "  "
            ]
          },
          "metadata": {},
          "execution_count": 62
        }
      ]
    },
    {
      "cell_type": "code",
      "source": [
        "haiTrieu.info()"
      ],
      "metadata": {
        "colab": {
          "base_uri": "https://localhost:8080/"
        },
        "id": "HblICrGz0zEq",
        "outputId": "38e6b359-4860-474d-8767-df6f4c43111d"
      },
      "execution_count": 63,
      "outputs": [
        {
          "output_type": "stream",
          "name": "stdout",
          "text": [
            "<class 'pandas.core.frame.DataFrame'>\n",
            "RangeIndex: 882 entries, 0 to 881\n",
            "Data columns (total 10 columns):\n",
            " #   Column          Non-Null Count  Dtype \n",
            "---  ------          --------------  ----- \n",
            " 0   name            879 non-null    object\n",
            " 1   Gender          880 non-null    object\n",
            " 2   Face_Diameter   881 non-null    object\n",
            " 3   Glass_material  880 non-null    object\n",
            " 4   Wire_material   788 non-null    object\n",
            " 5   Apparatus       880 non-null    object\n",
            " 6   Waterproof      881 non-null    object\n",
            " 7   Origin          880 non-null    object\n",
            " 8   agency          880 non-null    object\n",
            " 9   Price           882 non-null    object\n",
            "dtypes: object(10)\n",
            "memory usage: 69.0+ KB\n"
          ]
        }
      ]
    },
    {
      "cell_type": "markdown",
      "source": [
        "<h3>Ghép các bảng với nhau</h3>"
      ],
      "metadata": {
        "id": "un9HlTOD08Nw"
      }
    },
    {
      "cell_type": "code",
      "source": [
        "raw_data_files = [pd.read_csv('/content/dongho_dana.csv'),\n",
        "                  pd.read_csv('/content/dongho_dangquang.csv'),\n",
        "                  pd.read_csv('/content/dongho_haitrieu.csv'),]\n",
        "\n",
        "data = pd.concat(raw_data_files, ignore_index=True)\n",
        "data.head()"
      ],
      "metadata": {
        "colab": {
          "base_uri": "https://localhost:8080/",
          "height": 337
        },
        "id": "qI1nx2c20-cM",
        "outputId": "dfbf8e0a-37f6-4f2c-c6e3-12cea1e6e52b"
      },
      "execution_count": 64,
      "outputs": [
        {
          "output_type": "execute_result",
          "data": {
            "text/plain": [
              "            name Gender Face_Diameter           Glass_material  \\\n",
              "0   GA-2100-4ADR    Nam        45.4mm   khoáng (Mineral Glass)   \n",
              "1   GA-2100-4ADR    Nam        45.4mm   khoáng (Mineral Glass)   \n",
              "2   GA-2100-4ADR    Nam       45.4 mm   khoáng (Mineral Glass)   \n",
              "3  GA-B2100-1ADR    Nam        45.4mm   khoáng (Mineral Glass)   \n",
              "4   GA-2100-4ADR    Nam       45.4 mm   khoáng (Mineral Glass)   \n",
              "\n",
              "           Wire_material                          Apparatus Waterproof  \\\n",
              "0  Dây kim loại (Custom)                       Pin (Quartz)      20ATM   \n",
              "1  Dây kim loại (Custom)                       Pin (Quartz)      20ATM   \n",
              "2    Dây cao su (Custom)                       Pin (Quartz)      20ATM   \n",
              "3               Dây nhựa  Tough Solar (Năng lượng mặt trời)      20ATM   \n",
              "4    Dây cao su (Custom)                       Pin (Quartz)      20ATM   \n",
              "\n",
              "     Origin  agency    Price  \n",
              "0  Nhật Bản   Casio  5695200  \n",
              "1  Nhật Bản   Casio  5695200  \n",
              "2  Nhật Bản   Casio  5515200  \n",
              "3  Nhật Bản   Casio  4752000  \n",
              "4  Nhật Bản   Casio  5515200  "
            ],
            "text/html": [
              "\n",
              "  <div id=\"df-1a9a1b53-a5b7-4187-a29e-9abef62d82ff\">\n",
              "    <div class=\"colab-df-container\">\n",
              "      <div>\n",
              "<style scoped>\n",
              "    .dataframe tbody tr th:only-of-type {\n",
              "        vertical-align: middle;\n",
              "    }\n",
              "\n",
              "    .dataframe tbody tr th {\n",
              "        vertical-align: top;\n",
              "    }\n",
              "\n",
              "    .dataframe thead th {\n",
              "        text-align: right;\n",
              "    }\n",
              "</style>\n",
              "<table border=\"1\" class=\"dataframe\">\n",
              "  <thead>\n",
              "    <tr style=\"text-align: right;\">\n",
              "      <th></th>\n",
              "      <th>name</th>\n",
              "      <th>Gender</th>\n",
              "      <th>Face_Diameter</th>\n",
              "      <th>Glass_material</th>\n",
              "      <th>Wire_material</th>\n",
              "      <th>Apparatus</th>\n",
              "      <th>Waterproof</th>\n",
              "      <th>Origin</th>\n",
              "      <th>agency</th>\n",
              "      <th>Price</th>\n",
              "    </tr>\n",
              "  </thead>\n",
              "  <tbody>\n",
              "    <tr>\n",
              "      <th>0</th>\n",
              "      <td>GA-2100-4ADR</td>\n",
              "      <td>Nam</td>\n",
              "      <td>45.4mm</td>\n",
              "      <td>khoáng (Mineral Glass)</td>\n",
              "      <td>Dây kim loại (Custom)</td>\n",
              "      <td>Pin (Quartz)</td>\n",
              "      <td>20ATM</td>\n",
              "      <td>Nhật Bản</td>\n",
              "      <td>Casio</td>\n",
              "      <td>5695200</td>\n",
              "    </tr>\n",
              "    <tr>\n",
              "      <th>1</th>\n",
              "      <td>GA-2100-4ADR</td>\n",
              "      <td>Nam</td>\n",
              "      <td>45.4mm</td>\n",
              "      <td>khoáng (Mineral Glass)</td>\n",
              "      <td>Dây kim loại (Custom)</td>\n",
              "      <td>Pin (Quartz)</td>\n",
              "      <td>20ATM</td>\n",
              "      <td>Nhật Bản</td>\n",
              "      <td>Casio</td>\n",
              "      <td>5695200</td>\n",
              "    </tr>\n",
              "    <tr>\n",
              "      <th>2</th>\n",
              "      <td>GA-2100-4ADR</td>\n",
              "      <td>Nam</td>\n",
              "      <td>45.4 mm</td>\n",
              "      <td>khoáng (Mineral Glass)</td>\n",
              "      <td>Dây cao su (Custom)</td>\n",
              "      <td>Pin (Quartz)</td>\n",
              "      <td>20ATM</td>\n",
              "      <td>Nhật Bản</td>\n",
              "      <td>Casio</td>\n",
              "      <td>5515200</td>\n",
              "    </tr>\n",
              "    <tr>\n",
              "      <th>3</th>\n",
              "      <td>GA-B2100-1ADR</td>\n",
              "      <td>Nam</td>\n",
              "      <td>45.4mm</td>\n",
              "      <td>khoáng (Mineral Glass)</td>\n",
              "      <td>Dây nhựa</td>\n",
              "      <td>Tough Solar (Năng lượng mặt trời)</td>\n",
              "      <td>20ATM</td>\n",
              "      <td>Nhật Bản</td>\n",
              "      <td>Casio</td>\n",
              "      <td>4752000</td>\n",
              "    </tr>\n",
              "    <tr>\n",
              "      <th>4</th>\n",
              "      <td>GA-2100-4ADR</td>\n",
              "      <td>Nam</td>\n",
              "      <td>45.4 mm</td>\n",
              "      <td>khoáng (Mineral Glass)</td>\n",
              "      <td>Dây cao su (Custom)</td>\n",
              "      <td>Pin (Quartz)</td>\n",
              "      <td>20ATM</td>\n",
              "      <td>Nhật Bản</td>\n",
              "      <td>Casio</td>\n",
              "      <td>5515200</td>\n",
              "    </tr>\n",
              "  </tbody>\n",
              "</table>\n",
              "</div>\n",
              "      <button class=\"colab-df-convert\" onclick=\"convertToInteractive('df-1a9a1b53-a5b7-4187-a29e-9abef62d82ff')\"\n",
              "              title=\"Convert this dataframe to an interactive table.\"\n",
              "              style=\"display:none;\">\n",
              "        \n",
              "  <svg xmlns=\"http://www.w3.org/2000/svg\" height=\"24px\"viewBox=\"0 0 24 24\"\n",
              "       width=\"24px\">\n",
              "    <path d=\"M0 0h24v24H0V0z\" fill=\"none\"/>\n",
              "    <path d=\"M18.56 5.44l.94 2.06.94-2.06 2.06-.94-2.06-.94-.94-2.06-.94 2.06-2.06.94zm-11 1L8.5 8.5l.94-2.06 2.06-.94-2.06-.94L8.5 2.5l-.94 2.06-2.06.94zm10 10l.94 2.06.94-2.06 2.06-.94-2.06-.94-.94-2.06-.94 2.06-2.06.94z\"/><path d=\"M17.41 7.96l-1.37-1.37c-.4-.4-.92-.59-1.43-.59-.52 0-1.04.2-1.43.59L10.3 9.45l-7.72 7.72c-.78.78-.78 2.05 0 2.83L4 21.41c.39.39.9.59 1.41.59.51 0 1.02-.2 1.41-.59l7.78-7.78 2.81-2.81c.8-.78.8-2.07 0-2.86zM5.41 20L4 18.59l7.72-7.72 1.47 1.35L5.41 20z\"/>\n",
              "  </svg>\n",
              "      </button>\n",
              "      \n",
              "  <style>\n",
              "    .colab-df-container {\n",
              "      display:flex;\n",
              "      flex-wrap:wrap;\n",
              "      gap: 12px;\n",
              "    }\n",
              "\n",
              "    .colab-df-convert {\n",
              "      background-color: #E8F0FE;\n",
              "      border: none;\n",
              "      border-radius: 50%;\n",
              "      cursor: pointer;\n",
              "      display: none;\n",
              "      fill: #1967D2;\n",
              "      height: 32px;\n",
              "      padding: 0 0 0 0;\n",
              "      width: 32px;\n",
              "    }\n",
              "\n",
              "    .colab-df-convert:hover {\n",
              "      background-color: #E2EBFA;\n",
              "      box-shadow: 0px 1px 2px rgba(60, 64, 67, 0.3), 0px 1px 3px 1px rgba(60, 64, 67, 0.15);\n",
              "      fill: #174EA6;\n",
              "    }\n",
              "\n",
              "    [theme=dark] .colab-df-convert {\n",
              "      background-color: #3B4455;\n",
              "      fill: #D2E3FC;\n",
              "    }\n",
              "\n",
              "    [theme=dark] .colab-df-convert:hover {\n",
              "      background-color: #434B5C;\n",
              "      box-shadow: 0px 1px 3px 1px rgba(0, 0, 0, 0.15);\n",
              "      filter: drop-shadow(0px 1px 2px rgba(0, 0, 0, 0.3));\n",
              "      fill: #FFFFFF;\n",
              "    }\n",
              "  </style>\n",
              "\n",
              "      <script>\n",
              "        const buttonEl =\n",
              "          document.querySelector('#df-1a9a1b53-a5b7-4187-a29e-9abef62d82ff button.colab-df-convert');\n",
              "        buttonEl.style.display =\n",
              "          google.colab.kernel.accessAllowed ? 'block' : 'none';\n",
              "\n",
              "        async function convertToInteractive(key) {\n",
              "          const element = document.querySelector('#df-1a9a1b53-a5b7-4187-a29e-9abef62d82ff');\n",
              "          const dataTable =\n",
              "            await google.colab.kernel.invokeFunction('convertToInteractive',\n",
              "                                                     [key], {});\n",
              "          if (!dataTable) return;\n",
              "\n",
              "          const docLinkHtml = 'Like what you see? Visit the ' +\n",
              "            '<a target=\"_blank\" href=https://colab.research.google.com/notebooks/data_table.ipynb>data table notebook</a>'\n",
              "            + ' to learn more about interactive tables.';\n",
              "          element.innerHTML = '';\n",
              "          dataTable['output_type'] = 'display_data';\n",
              "          await google.colab.output.renderOutput(dataTable, element);\n",
              "          const docLink = document.createElement('div');\n",
              "          docLink.innerHTML = docLinkHtml;\n",
              "          element.appendChild(docLink);\n",
              "        }\n",
              "      </script>\n",
              "    </div>\n",
              "  </div>\n",
              "  "
            ]
          },
          "metadata": {},
          "execution_count": 64
        }
      ]
    },
    {
      "cell_type": "code",
      "source": [
        "data.info()"
      ],
      "metadata": {
        "colab": {
          "base_uri": "https://localhost:8080/"
        },
        "id": "xCssmh5k1mcI",
        "outputId": "3705cddf-cbd6-432f-c20f-bf16208525f7"
      },
      "execution_count": 65,
      "outputs": [
        {
          "output_type": "stream",
          "name": "stdout",
          "text": [
            "<class 'pandas.core.frame.DataFrame'>\n",
            "RangeIndex: 3057 entries, 0 to 3056\n",
            "Data columns (total 10 columns):\n",
            " #   Column          Non-Null Count  Dtype \n",
            "---  ------          --------------  ----- \n",
            " 0   name            3053 non-null   object\n",
            " 1   Gender          3047 non-null   object\n",
            " 2   Face_Diameter   3047 non-null   object\n",
            " 3   Glass_material  3045 non-null   object\n",
            " 4   Wire_material   2878 non-null   object\n",
            " 5   Apparatus       3054 non-null   object\n",
            " 6   Waterproof      3049 non-null   object\n",
            " 7   Origin          3049 non-null   object\n",
            " 8   agency          3054 non-null   object\n",
            " 9   Price           3057 non-null   object\n",
            "dtypes: object(10)\n",
            "memory usage: 239.0+ KB\n"
          ]
        }
      ]
    },
    {
      "cell_type": "code",
      "source": [
        "import missingno as msno\n",
        "\n",
        "msno.bar(data);"
      ],
      "metadata": {
        "colab": {
          "base_uri": "https://localhost:8080/",
          "height": 552
        },
        "id": "_nYsj7VV1sSd",
        "outputId": "52523df5-456a-42dd-bcf2-a7a9c741efc8"
      },
      "execution_count": 66,
      "outputs": [
        {
          "output_type": "display_data",
          "data": {
            "text/plain": [
              "<Figure size 2500x1000 with 3 Axes>"
            ],
            "image/png": "[encoded data removed]"
          },
          "metadata": {}
        }
      ]
    },
    {
      "cell_type": "markdown",
      "source": [
        "chuyển đổi <strong>Price</strong> thành dạng số"
      ],
      "metadata": {
        "id": "Rjbfc_qW2Uth"
      }
    },
    {
      "cell_type": "code",
      "source": [
        "data['gia'] = data['Price'].copy() #copy cột Price\n",
        "data['gia'].unique()\n",
        "\n",
        "print(data['gia'])\n"
      ],
      "metadata": {
        "colab": {
          "base_uri": "https://localhost:8080/"
        },
        "id": "MjBhnMQ21wiD",
        "outputId": "ff6a8772-e6e2-43c1-cf97-e2963f166be8"
      },
      "execution_count": 67,
      "outputs": [
        {
          "output_type": "stream",
          "name": "stdout",
          "text": [
            "0           5695200\n",
            "1           5695200\n",
            "2           5515200\n",
            "3           4752000\n",
            "4           5515200\n",
            "           ...     \n",
            "3052    4.670.000 ₫\n",
            "3053    6.330.000 ₫\n",
            "3054    6.330.000 ₫\n",
            "3055    4.984.000 ₫\n",
            "3056    1.347.000 ₫\n",
            "Name: gia, Length: 3057, dtype: object\n"
          ]
        }
      ]
    },
    {
      "cell_type": "code",
      "source": [
        "import random\n",
        "Price = []\n",
        "\n",
        "for i in data['gia'] :\n",
        "  i = str(i)\n",
        "  if 'nan' in i :\n",
        "    random_number = random.randint(500000, 5000000)\n",
        "    Price.append(random_number)\n",
        "  else :\n",
        "    Price.append(i.replace(\".\", \"\").replace(\"₫\", \"\").replace('đ',''))\n",
        "data['gia']=Price\n",
        "print(data['gia'])"
      ],
      "metadata": {
        "colab": {
          "base_uri": "https://localhost:8080/"
        },
        "id": "ihr1SKEJ3YGS",
        "outputId": "8d8d3eff-d67f-4db6-ce7e-9d3061f4dbbe"
      },
      "execution_count": 68,
      "outputs": [
        {
          "output_type": "stream",
          "name": "stdout",
          "text": [
            "0        5695200\n",
            "1        5695200\n",
            "2        5515200\n",
            "3        4752000\n",
            "4        5515200\n",
            "          ...   \n",
            "3052    4670000 \n",
            "3053    6330000 \n",
            "3054    6330000 \n",
            "3055    4984000 \n",
            "3056    1347000 \n",
            "Name: gia, Length: 3057, dtype: object\n"
          ]
        }
      ]
    },
    {
      "cell_type": "code",
      "source": [
        "data['gia'] = data['gia'].astype(int)\n",
        "max_price = data['gia'].max()\n",
        "min_price = data['gia'].min()\n",
        "\n",
        "print(min_price)\n",
        "print(max_price)"
      ],
      "metadata": {
        "colab": {
          "base_uri": "https://localhost:8080/"
        },
        "id": "e8Q3ZthvAdPd",
        "outputId": "1fc189c9-9884-4699-e155-e7f08b080a83"
      },
      "execution_count": 69,
      "outputs": [
        {
          "output_type": "stream",
          "name": "stdout",
          "text": [
            "466000\n",
            "229500000\n"
          ]
        }
      ]
    },
    {
      "cell_type": "markdown",
      "source": [
        "Biểu đồ  của cột Price"
      ],
      "metadata": {
        "id": "Zaw1aYMc3y23"
      }
    },
    {
      "cell_type": "code",
      "source": [
        "fig = plt.figure(figsize =(20, 10))\n",
        "plt.hist(data[\"gia\"],bins=200);\n",
        "plt.xlabel('Price(đ))');\n",
        "plt.ylabel('Quantity');\n",
        "plt.title(\"Price histogram\")\n",
        "plt.show()"
      ],
      "metadata": {
        "colab": {
          "base_uri": "https://localhost:8080/",
          "height": 603
        },
        "id": "qKYGPfb-6bq1",
        "outputId": "447e5a7d-322b-4d9e-88ea-9122828b1733"
      },
      "execution_count": 70,
      "outputs": [
        {
          "output_type": "display_data",
          "data": {
            "text/plain": [
              "<Figure size 2000x1000 with 1 Axes>"
            ],
            "image/png": "[encoded data removed]"
          },
          "metadata": {}
        }
      ]
    },
    {
      "cell_type": "markdown",
      "source": [
        "Biểu đồ hộp của cột Price"
      ],
      "metadata": {
        "id": "85Fv-RKl1SSk"
      }
    },
    {
      "cell_type": "code",
      "source": [
        "fig = plt.figure(figsize =(5, 10))\n",
        "plt.boxplot(data[\"gia\"])\n",
        "plt.ylabel('Price (₫)');\n",
        "plt.show()"
      ],
      "metadata": {
        "colab": {
          "base_uri": "https://localhost:8080/",
          "height": 845
        },
        "id": "-T5R5eUz1R44",
        "outputId": "1a3794ac-9bc7-46d5-c3bf-57bd64968594"
      },
      "execution_count": 71,
      "outputs": [
        {
          "output_type": "display_data",
          "data": {
            "text/plain": [
              "<Figure size 500x1000 with 1 Axes>"
            ],
            "image/png": "[encoded data removed]"
          },
          "metadata": {}
        }
      ]
    },
    {
      "cell_type": "markdown",
      "source": [
        "Hầu hết các đồng hồ phân bố dưới 100 triệu đồng, tuy nhiên có một số đồng hồ lên đến hơn 100 triệu thậm chí hơn 200 triệu."
      ],
      "metadata": {
        "id": "CuLkZkMF2pLD"
      }
    },
    {
      "cell_type": "code",
      "source": [
        "HighPriceWatch=data[data[\"gia\"]>100000000]\n",
        "len(HighPriceWatch)"
      ],
      "metadata": {
        "colab": {
          "base_uri": "https://localhost:8080/"
        },
        "id": "o5nfBCPa14mr",
        "outputId": "f223879c-67d0-459f-df8e-b59f98259dac"
      },
      "execution_count": 72,
      "outputs": [
        {
          "output_type": "execute_result",
          "data": {
            "text/plain": [
              "22"
            ]
          },
          "metadata": {},
          "execution_count": 72
        }
      ]
    }
  ]
}