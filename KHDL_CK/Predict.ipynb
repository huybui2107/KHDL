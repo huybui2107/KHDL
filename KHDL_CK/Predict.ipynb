{
  "nbformat": 4,
  "nbformat_minor": 0,
  "metadata": {
    "colab": {
      "provenance": []
    },
    "kernelspec": {
      "name": "python3",
      "display_name": "Python 3"
    },
    "language_info": {
      "name": "python"
    }
  },
  "cells": [
    {
      "cell_type": "markdown",
      "source": [
        "##**Load File**"
      ],
      "metadata": {
        "id": "caC8o2VV6P0m"
      }
    },
    {
      "cell_type": "code",
      "execution_count": null,
      "metadata": {
        "id": "lqFFAaBW510R"
      },
      "outputs": [],
      "source": [
        "import pickle\n",
        "with open('XGB_model.pkl', 'rb') as file:\n",
        "    xgb_model = pickle.load(file)\n",
        "with open('encoder.pkl', 'rb') as file:\n",
        "    le_dict = pickle.load(file)\n",
        "with open('scaler.pkl', 'rb') as file:\n",
        "    number_normal_scaler = pickle.load(file)"
      ]
    },
    {
      "cell_type": "markdown",
      "source": [
        "##**Create Object Predict**"
      ],
      "metadata": {
        "id": "7psrfrRN63PT"
      }
    },
    {
      "cell_type": "code",
      "source": [
        "watch = {\n",
        "\n",
        "'Glass_material' : ['Mineral Crystal']   ,\n",
        " 'agency' : ['Citizen'] ,           \n",
        " 'Origin' : ['Nhật Bản']  ,         \n",
        " 'Waterproof' :[5]   ,    \n",
        " 'Wire_material'    : ['thép không gỉ'] ,\n",
        "'Face_Diameter'    :[39 ],\n",
        "'Apparatus'       :['Quartz']\n",
        "\n",
        "}"
      ],
      "metadata": {
        "id": "9v5vx6J86CQv"
      },
      "execution_count": null,
      "outputs": []
    },
    {
      "cell_type": "markdown",
      "source": [
        "##**Create Func Predict**"
      ],
      "metadata": {
        "id": "tWsUIgic7c9m"
      }
    },
    {
      "cell_type": "code",
      "source": [
        "import pandas as pd\n",
        "vars_normalizing =   ['Face_Diameter','Glass_material', 'Wire_material', 'Apparatus',  'Waterproof', 'Origin', 'agency']\n",
        "def predict(watch) :\n",
        "  input_data = pd.DataFrame(watch)\n",
        "    # label encoder\n",
        "  input_data['Wire_material'] = le_dict['Wire_material'].transform(input_data['Wire_material'])\n",
        "  input_data['Glass_material'] = le_dict['Glass_material'].transform(input_data['Glass_material'])\n",
        "  input_data['Apparatus'] = le_dict['Apparatus'].transform(input_data['Apparatus'])\n",
        "  input_data['Origin'] = le_dict['Origin'].transform(input_data['Origin'])\n",
        "  input_data['agency'] = le_dict['agency'].transform(input_data['agency'])\n",
        "    #tranform\n",
        "\n",
        "\n",
        "  input_data[vars_normalizing] = number_normal_scaler.transform(input_data[vars_normalizing])\n",
        "  input_data = input_data.reindex(columns=vars_normalizing)\n",
        "  input_data = input_data[vars_normalizing]\n",
        "\n",
        "  # predict\n",
        "  price = xgb_model.predict(input_data)\n",
        "  return int(price)"
      ],
      "metadata": {
        "id": "F9e8Z4337ck2"
      },
      "execution_count": null,
      "outputs": []
    },
    {
      "cell_type": "markdown",
      "source": [
        "##**Result**"
      ],
      "metadata": {
        "id": "AuJyHECl_3o3"
      }
    },
    {
      "cell_type": "code",
      "source": [
        "print(\"Giá đồng hồ dự đoán được :\" , predict(watch))"
      ],
      "metadata": {
        "colab": {
          "base_uri": "https://localhost:8080/"
        },
        "id": "kwXztohR9VHd",
        "outputId": "47d811fa-4a49-43ef-f654-9fd1afd87d8a"
      },
      "execution_count": null,
      "outputs": [
        {
          "output_type": "stream",
          "name": "stdout",
          "text": [
            "Giá điện thoại dự đoán được : 3562557\n"
          ]
        }
      ]
    }
  ]
}